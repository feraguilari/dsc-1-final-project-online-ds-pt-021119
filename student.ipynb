{
 "cells": [
  {
   "cell_type": "markdown",
   "metadata": {},
   "source": [
    "## Final Project Submission\n",
    "\n",
    "Please fill out:\n",
    "* Student name: Fernando Aguilar Islas\n",
    "* Student pace: Part Time\n",
    "* Scheduled project review date/time: Friday, April 5, 2019\n",
    "* Instructor name: Brandon Lewis\n",
    "* Blog post URL:"
   ]
  },
  {
   "cell_type": "markdown",
   "metadata": {},
   "source": [
    "# King's County Data Set\n",
    "\n",
    "For this project, I will create a multi-factor model using housing features contained in the King's County data set to predict house prices. Throughout the project, I will be using the OSEMN model consisting of the following steps: Obtain, Scrub, Explore, Model, and iNterpret the data. The information given for the data set features the following:\n",
    "\n",
    "### Column Names and descriptions\n",
    "* **id** - unique identified for a house\n",
    "* **dateDate** - house was sold\n",
    "* **pricePrice** -  is prediction target\n",
    "* **bedroomsNumber** -  of Bedrooms/House\n",
    "* **bathroomsNumber** -  of bathrooms/bedrooms\n",
    "* **sqft_livingsquare** -  footage of the home\n",
    "* **sqft_lotsquare** -  footage of the lot\n",
    "* **floorsTotal** -  floors (levels) in house\n",
    "* **waterfront** - House which has a view to a waterfront\n",
    "* **view** - Has been viewed\n",
    "* **condition** - How good the condition is ( Overall )\n",
    "* **grade** - overall grade given to the housing unit, based on King County grading system\n",
    "* **sqft_above** - square footage of house apart from basement\n",
    "* **sqft_basement** - square footage of the basement\n",
    "* **yr_built** - Built Year\n",
    "* **yr_renovated** - Year when house was renovated\n",
    "* **zipcode** - zip\n",
    "* **lat** - Latitude coordinate\n",
    "* **long** - Longitude coordinate\n",
    "* **sqft_living15** - The square footage of interior housing living space for the nearest 15 neighbors\n",
    "* **sqft_lot15** - The square footage of the land lots of the nearest 15 neighbors"
   ]
  },
  {
   "cell_type": "markdown",
   "metadata": {},
   "source": [
    "## 1. Obtain\n",
    "The main objective of this project is to derive a multi-factor model that predicts housing prices as accurately as possible, using relevant features only.\n",
    "I will start by importing the necessary libraries and obtaining the data from the file 'kc_house_data.csv' to start my Exploratory and Data Analysis (EDA)."
   ]
  },
  {
   "cell_type": "code",
   "execution_count": 1,
   "metadata": {},
   "outputs": [],
   "source": [
    "import pandas as pd\n",
    "import matplotlib.pyplot as plt\n",
    "import seaborn as sns\n",
    "import numpy as np\n",
    "import math\n",
    "from sklearn.preprocessing import MinMaxScaler\n",
    "from sklearn.model_selection import train_test_split, cross_val_score\n",
    "from sklearn.linear_model import LinearRegression\n",
    "from sklearn.preprocessing import StandardScaler"
   ]
  },
  {
   "cell_type": "code",
   "execution_count": 2,
   "metadata": {},
   "outputs": [
    {
     "name": "stdout",
     "output_type": "stream",
     "text": [
      "<class 'pandas.core.frame.DataFrame'>\n",
      "RangeIndex: 21597 entries, 0 to 21596\n",
      "Data columns (total 21 columns):\n",
      "id               21597 non-null int64\n",
      "date             21597 non-null object\n",
      "price            21597 non-null float64\n",
      "bedrooms         21597 non-null int64\n",
      "bathrooms        21597 non-null float64\n",
      "sqft_living      21597 non-null int64\n",
      "sqft_lot         21597 non-null int64\n",
      "floors           21597 non-null float64\n",
      "waterfront       19221 non-null float64\n",
      "view             21534 non-null float64\n",
      "condition        21597 non-null int64\n",
      "grade            21597 non-null int64\n",
      "sqft_above       21597 non-null int64\n",
      "sqft_basement    21597 non-null object\n",
      "yr_built         21597 non-null int64\n",
      "yr_renovated     17755 non-null float64\n",
      "zipcode          21597 non-null int64\n",
      "lat              21597 non-null float64\n",
      "long             21597 non-null float64\n",
      "sqft_living15    21597 non-null int64\n",
      "sqft_lot15       21597 non-null int64\n",
      "dtypes: float64(8), int64(11), object(2)\n",
      "memory usage: 3.5+ MB\n"
     ]
    }
   ],
   "source": [
    "df = pd.read_csv('kc_house_data.csv')\n",
    "df.info()"
   ]
  },
  {
   "cell_type": "markdown",
   "metadata": {},
   "source": [
    "* The dataframe contains 21 columns and 21,597 rows. From this information, I can see that the following variables have null values: waterfront, view, and yr_renovated.\n",
    "* Also, there are some variables with the incorrect datatype. I will address this issue after exploring the data and determining their correct datatype and change accordingly.\n",
    "* Price is the target variable, leaving 20 features to construct the model.<br><br>\n",
    "To start exploring the data I am going to visualize the first rows of the dataframe to see a sample of the values cointained in them. I will split them in two to be able to visualize all columns."
   ]
  },
  {
   "cell_type": "code",
   "execution_count": 3,
   "metadata": {},
   "outputs": [
    {
     "data": {
      "text/html": [
       "<div>\n",
       "<style scoped>\n",
       "    .dataframe tbody tr th:only-of-type {\n",
       "        vertical-align: middle;\n",
       "    }\n",
       "\n",
       "    .dataframe tbody tr th {\n",
       "        vertical-align: top;\n",
       "    }\n",
       "\n",
       "    .dataframe thead th {\n",
       "        text-align: right;\n",
       "    }\n",
       "</style>\n",
       "<table border=\"1\" class=\"dataframe\">\n",
       "  <thead>\n",
       "    <tr style=\"text-align: right;\">\n",
       "      <th></th>\n",
       "      <th>id</th>\n",
       "      <th>date</th>\n",
       "      <th>price</th>\n",
       "      <th>bedrooms</th>\n",
       "      <th>bathrooms</th>\n",
       "      <th>sqft_living</th>\n",
       "      <th>sqft_lot</th>\n",
       "      <th>floors</th>\n",
       "      <th>waterfront</th>\n",
       "      <th>view</th>\n",
       "    </tr>\n",
       "  </thead>\n",
       "  <tbody>\n",
       "    <tr>\n",
       "      <th>0</th>\n",
       "      <td>7129300520</td>\n",
       "      <td>10/13/2014</td>\n",
       "      <td>221900.0</td>\n",
       "      <td>3</td>\n",
       "      <td>1.00</td>\n",
       "      <td>1180</td>\n",
       "      <td>5650</td>\n",
       "      <td>1.0</td>\n",
       "      <td>NaN</td>\n",
       "      <td>0.0</td>\n",
       "    </tr>\n",
       "    <tr>\n",
       "      <th>1</th>\n",
       "      <td>6414100192</td>\n",
       "      <td>12/9/2014</td>\n",
       "      <td>538000.0</td>\n",
       "      <td>3</td>\n",
       "      <td>2.25</td>\n",
       "      <td>2570</td>\n",
       "      <td>7242</td>\n",
       "      <td>2.0</td>\n",
       "      <td>0.0</td>\n",
       "      <td>0.0</td>\n",
       "    </tr>\n",
       "    <tr>\n",
       "      <th>2</th>\n",
       "      <td>5631500400</td>\n",
       "      <td>2/25/2015</td>\n",
       "      <td>180000.0</td>\n",
       "      <td>2</td>\n",
       "      <td>1.00</td>\n",
       "      <td>770</td>\n",
       "      <td>10000</td>\n",
       "      <td>1.0</td>\n",
       "      <td>0.0</td>\n",
       "      <td>0.0</td>\n",
       "    </tr>\n",
       "    <tr>\n",
       "      <th>3</th>\n",
       "      <td>2487200875</td>\n",
       "      <td>12/9/2014</td>\n",
       "      <td>604000.0</td>\n",
       "      <td>4</td>\n",
       "      <td>3.00</td>\n",
       "      <td>1960</td>\n",
       "      <td>5000</td>\n",
       "      <td>1.0</td>\n",
       "      <td>0.0</td>\n",
       "      <td>0.0</td>\n",
       "    </tr>\n",
       "    <tr>\n",
       "      <th>4</th>\n",
       "      <td>1954400510</td>\n",
       "      <td>2/18/2015</td>\n",
       "      <td>510000.0</td>\n",
       "      <td>3</td>\n",
       "      <td>2.00</td>\n",
       "      <td>1680</td>\n",
       "      <td>8080</td>\n",
       "      <td>1.0</td>\n",
       "      <td>0.0</td>\n",
       "      <td>0.0</td>\n",
       "    </tr>\n",
       "  </tbody>\n",
       "</table>\n",
       "</div>"
      ],
      "text/plain": [
       "           id        date     price  bedrooms  bathrooms  sqft_living  \\\n",
       "0  7129300520  10/13/2014  221900.0         3       1.00         1180   \n",
       "1  6414100192   12/9/2014  538000.0         3       2.25         2570   \n",
       "2  5631500400   2/25/2015  180000.0         2       1.00          770   \n",
       "3  2487200875   12/9/2014  604000.0         4       3.00         1960   \n",
       "4  1954400510   2/18/2015  510000.0         3       2.00         1680   \n",
       "\n",
       "   sqft_lot  floors  waterfront  view  \n",
       "0      5650     1.0         NaN   0.0  \n",
       "1      7242     2.0         0.0   0.0  \n",
       "2     10000     1.0         0.0   0.0  \n",
       "3      5000     1.0         0.0   0.0  \n",
       "4      8080     1.0         0.0   0.0  "
      ]
     },
     "execution_count": 3,
     "metadata": {},
     "output_type": "execute_result"
    }
   ],
   "source": [
    "df.iloc[:5,:10]"
   ]
  },
  {
   "cell_type": "code",
   "execution_count": 4,
   "metadata": {},
   "outputs": [
    {
     "data": {
      "text/html": [
       "<div>\n",
       "<style scoped>\n",
       "    .dataframe tbody tr th:only-of-type {\n",
       "        vertical-align: middle;\n",
       "    }\n",
       "\n",
       "    .dataframe tbody tr th {\n",
       "        vertical-align: top;\n",
       "    }\n",
       "\n",
       "    .dataframe thead th {\n",
       "        text-align: right;\n",
       "    }\n",
       "</style>\n",
       "<table border=\"1\" class=\"dataframe\">\n",
       "  <thead>\n",
       "    <tr style=\"text-align: right;\">\n",
       "      <th></th>\n",
       "      <th>condition</th>\n",
       "      <th>grade</th>\n",
       "      <th>sqft_above</th>\n",
       "      <th>sqft_basement</th>\n",
       "      <th>yr_built</th>\n",
       "      <th>yr_renovated</th>\n",
       "      <th>zipcode</th>\n",
       "      <th>lat</th>\n",
       "      <th>long</th>\n",
       "      <th>sqft_living15</th>\n",
       "      <th>sqft_lot15</th>\n",
       "    </tr>\n",
       "  </thead>\n",
       "  <tbody>\n",
       "    <tr>\n",
       "      <th>0</th>\n",
       "      <td>3</td>\n",
       "      <td>7</td>\n",
       "      <td>1180</td>\n",
       "      <td>0.0</td>\n",
       "      <td>1955</td>\n",
       "      <td>0.0</td>\n",
       "      <td>98178</td>\n",
       "      <td>47.5112</td>\n",
       "      <td>-122.257</td>\n",
       "      <td>1340</td>\n",
       "      <td>5650</td>\n",
       "    </tr>\n",
       "    <tr>\n",
       "      <th>1</th>\n",
       "      <td>3</td>\n",
       "      <td>7</td>\n",
       "      <td>2170</td>\n",
       "      <td>400.0</td>\n",
       "      <td>1951</td>\n",
       "      <td>1991.0</td>\n",
       "      <td>98125</td>\n",
       "      <td>47.7210</td>\n",
       "      <td>-122.319</td>\n",
       "      <td>1690</td>\n",
       "      <td>7639</td>\n",
       "    </tr>\n",
       "    <tr>\n",
       "      <th>2</th>\n",
       "      <td>3</td>\n",
       "      <td>6</td>\n",
       "      <td>770</td>\n",
       "      <td>0.0</td>\n",
       "      <td>1933</td>\n",
       "      <td>NaN</td>\n",
       "      <td>98028</td>\n",
       "      <td>47.7379</td>\n",
       "      <td>-122.233</td>\n",
       "      <td>2720</td>\n",
       "      <td>8062</td>\n",
       "    </tr>\n",
       "    <tr>\n",
       "      <th>3</th>\n",
       "      <td>5</td>\n",
       "      <td>7</td>\n",
       "      <td>1050</td>\n",
       "      <td>910.0</td>\n",
       "      <td>1965</td>\n",
       "      <td>0.0</td>\n",
       "      <td>98136</td>\n",
       "      <td>47.5208</td>\n",
       "      <td>-122.393</td>\n",
       "      <td>1360</td>\n",
       "      <td>5000</td>\n",
       "    </tr>\n",
       "    <tr>\n",
       "      <th>4</th>\n",
       "      <td>3</td>\n",
       "      <td>8</td>\n",
       "      <td>1680</td>\n",
       "      <td>0.0</td>\n",
       "      <td>1987</td>\n",
       "      <td>0.0</td>\n",
       "      <td>98074</td>\n",
       "      <td>47.6168</td>\n",
       "      <td>-122.045</td>\n",
       "      <td>1800</td>\n",
       "      <td>7503</td>\n",
       "    </tr>\n",
       "  </tbody>\n",
       "</table>\n",
       "</div>"
      ],
      "text/plain": [
       "   condition  grade  sqft_above sqft_basement  yr_built  yr_renovated  \\\n",
       "0          3      7        1180           0.0      1955           0.0   \n",
       "1          3      7        2170         400.0      1951        1991.0   \n",
       "2          3      6         770           0.0      1933           NaN   \n",
       "3          5      7        1050         910.0      1965           0.0   \n",
       "4          3      8        1680           0.0      1987           0.0   \n",
       "\n",
       "   zipcode      lat     long  sqft_living15  sqft_lot15  \n",
       "0    98178  47.5112 -122.257           1340        5650  \n",
       "1    98125  47.7210 -122.319           1690        7639  \n",
       "2    98028  47.7379 -122.233           2720        8062  \n",
       "3    98136  47.5208 -122.393           1360        5000  \n",
       "4    98074  47.6168 -122.045           1800        7503  "
      ]
     },
     "execution_count": 4,
     "metadata": {},
     "output_type": "execute_result"
    }
   ],
   "source": [
    "df.iloc[:5,10:]"
   ]
  },
  {
   "cell_type": "markdown",
   "metadata": {},
   "source": [
    "## 2. Scrub\n",
    "For this stage, I am going to iterate through each of the columns to verify and assign correct datatypes,  identify and remove null values, and dummy values. It is also common to deal with outliers during this stage, but I will leave this process to be carried out during data exploration in the next stage."
   ]
  },
  {
   "cell_type": "code",
   "execution_count": 5,
   "metadata": {},
   "outputs": [
    {
     "data": {
      "text/plain": [
       "0   2014-10-13\n",
       "1   2014-12-09\n",
       "2   2015-02-25\n",
       "3   2014-12-09\n",
       "4   2015-02-18\n",
       "Name: date, dtype: datetime64[ns]"
      ]
     },
     "execution_count": 5,
     "metadata": {},
     "output_type": "execute_result"
    }
   ],
   "source": [
    "#set date values as date datatype\n",
    "df['date'] = pd.to_datetime(df['date'])\n",
    "df.date.head()"
   ]
  },
  {
   "cell_type": "code",
   "execution_count": 6,
   "metadata": {},
   "outputs": [
    {
     "data": {
      "text/plain": [
       "0    1\n",
       "1    3\n",
       "2    1\n",
       "3    3\n",
       "4    2\n",
       "Name: bathrooms, dtype: int64"
      ]
     },
     "execution_count": 6,
     "metadata": {},
     "output_type": "execute_result"
    }
   ],
   "source": [
    "#Bathrooms should be an integer. For the purpose of this project full and half-bathrooms will be unitary.\n",
    "#For this I am assuming that any fraction entered above the unit is another bathroom, i.e. 2.25 = 3 bathrooms.\n",
    "df['bathrooms'] = df['bathrooms'].apply(lambda x: math.ceil(x)).astype(int)\n",
    "df.bathrooms.head()"
   ]
  },
  {
   "cell_type": "code",
   "execution_count": 7,
   "metadata": {},
   "outputs": [
    {
     "data": {
      "text/plain": [
       "0    1\n",
       "1    2\n",
       "2    1\n",
       "3    1\n",
       "4    1\n",
       "Name: floors, dtype: int64"
      ]
     },
     "execution_count": 7,
     "metadata": {},
     "output_type": "execute_result"
    }
   ],
   "source": [
    "#Floors should be an integer by definition.\n",
    "df['floors'] = df['floors'].astype(int)\n",
    "df['floors'].head()"
   ]
  },
  {
   "cell_type": "code",
   "execution_count": 8,
   "metadata": {},
   "outputs": [
    {
     "name": "stdout",
     "output_type": "stream",
     "text": [
      "2376\n",
      "0.0    19075\n",
      "1.0      146\n",
      "Name: waterfront, dtype: int64\n"
     ]
    }
   ],
   "source": [
    "#Waterfront is a categorical value given that a house is either waterfront property or not.\n",
    "#Since waterfront has null values, I will susbtitute the values as 1 for waterfront and 0 elsewhere.\n",
    "print(df.waterfront.isna().sum())\n",
    "print(df.waterfront.value_counts())"
   ]
  },
  {
   "cell_type": "code",
   "execution_count": 9,
   "metadata": {},
   "outputs": [
    {
     "name": "stdout",
     "output_type": "stream",
     "text": [
      "category\n",
      "0.0    21451\n",
      "1.0      146\n",
      "Name: waterfront, dtype: int64\n"
     ]
    }
   ],
   "source": [
    "#Waterfront has 2,3736 null values. About 10% of our entire dataset. Hence, deleting is not an option.\n",
    "#I will assume these houses are not waterfront properties, because most properties in the data set are not.\n",
    "df['waterfront'].fillna(0, inplace=True)\n",
    "#Correct datatype is category.\n",
    "df['waterfront'] = df['waterfront'].astype('category')\n",
    "print(df['waterfront'].dtypes)\n",
    "print(df['waterfront'].value_counts())"
   ]
  },
  {
   "cell_type": "code",
   "execution_count": 10,
   "metadata": {},
   "outputs": [
    {
     "name": "stdout",
     "output_type": "stream",
     "text": [
      "0.0    19422\n",
      "2.0      957\n",
      "3.0      508\n",
      "1.0      330\n",
      "4.0      317\n",
      "Name: view, dtype: int64\n",
      "count    21534.000000\n",
      "mean         0.233863\n",
      "std          0.765686\n",
      "min          0.000000\n",
      "25%          0.000000\n",
      "50%          0.000000\n",
      "75%          0.000000\n",
      "max          4.000000\n",
      "Name: view, dtype: float64\n",
      "Missing values:  63\n"
     ]
    }
   ],
   "source": [
    "print(df['view'].value_counts())\n",
    "print(df['view'].describe())\n",
    "print('Missing values: ', df['view'].isna().sum())"
   ]
  },
  {
   "cell_type": "markdown",
   "metadata": {},
   "source": [
    "Home views range from 0 (no views) to 4. It contains 63 missing values. I will replace these values with 0.<br>\n",
    "Most homes have not been viewed. Hence I believe this variable would be better utilized as a binary category, as either a house has been viewed (1) or not (0)."
   ]
  },
  {
   "cell_type": "code",
   "execution_count": 11,
   "metadata": {},
   "outputs": [
    {
     "name": "stdout",
     "output_type": "stream",
     "text": [
      "Missing Values:  0\n",
      "0    19485\n",
      "1     2112\n",
      "Name: view, dtype: int64\n",
      "category\n"
     ]
    }
   ],
   "source": [
    "#replace null values with 0.\n",
    "df['view'].fillna(0, inplace=True)\n",
    "print('Missing Values: ', df.view.isna().sum())\n",
    "#Set all values above 0 to 1.\n",
    "df['view'] = df['view'].apply(lambda x: 1 if (x>0) else 0).astype('category')\n",
    "print(df.view.value_counts())\n",
    "print(df['view'].dtypes)"
   ]
  },
  {
   "cell_type": "code",
   "execution_count": 12,
   "metadata": {},
   "outputs": [],
   "source": [
    "#Changing condition type to category.\n",
    "df['condition']=df['condition'].astype('category')"
   ]
  },
  {
   "cell_type": "markdown",
   "metadata": {},
   "source": [
    "Trying to change the basement category, the system provided an error indicating the prescence of a non numerical value '?'. First I will replace this value with a 0, since most houses do not have a basement. And then, change it to its correct datatype: integer."
   ]
  },
  {
   "cell_type": "code",
   "execution_count": 13,
   "metadata": {},
   "outputs": [
    {
     "name": "stdout",
     "output_type": "stream",
     "text": [
      "Missing Values:  0\n"
     ]
    },
    {
     "data": {
      "text/plain": [
       "0.0       12826\n",
       "?           454\n",
       "600.0       217\n",
       "500.0       209\n",
       "700.0       208\n",
       "800.0       201\n",
       "400.0       184\n",
       "1000.0      148\n",
       "900.0       142\n",
       "300.0       142\n",
       "Name: sqft_basement, dtype: int64"
      ]
     },
     "execution_count": 13,
     "metadata": {},
     "output_type": "execute_result"
    }
   ],
   "source": [
    "#This gives an error, so propbably I should explore the data contained first to find the error value: '?'.\n",
    "#I will first check the values in the series.\n",
    "print('Missing Values: ', df.sqft_basement.isna().sum())\n",
    "df.sqft_basement.value_counts()[:10]"
   ]
  },
  {
   "cell_type": "markdown",
   "metadata": {},
   "source": [
    "The series contains 454 '?' characters, and there should only be numbers. Since most values are 0, I will start by replacing the '?' with a value of 0."
   ]
  },
  {
   "cell_type": "code",
   "execution_count": 14,
   "metadata": {},
   "outputs": [
    {
     "name": "stdout",
     "output_type": "stream",
     "text": [
      "int64\n"
     ]
    }
   ],
   "source": [
    "#Replace '?' with a value of 0 and define the correct category as integer.\n",
    "df['sqft_basement'] = df['sqft_basement'].replace('?',0).astype(float).astype(int)\n",
    "print(df['sqft_basement'].dtype)"
   ]
  },
  {
   "cell_type": "code",
   "execution_count": 15,
   "metadata": {},
   "outputs": [
    {
     "name": "stdout",
     "output_type": "stream",
     "text": [
      "Missing values:  3842\n"
     ]
    },
    {
     "data": {
      "text/plain": [
       "0       20853\n",
       "2014       73\n",
       "2003       31\n",
       "2013       31\n",
       "2007       30\n",
       "Name: yr_renovated, dtype: int64"
      ]
     },
     "execution_count": 15,
     "metadata": {},
     "output_type": "execute_result"
    }
   ],
   "source": [
    "#yr_renovated should be an integer and null values replace with 0 since they are most likely not renovated.\n",
    "print('Missing values: ',df['yr_renovated'].isna().sum())\n",
    "df['yr_renovated'] = df['yr_renovated'].fillna(0).astype(int)\n",
    "df['yr_renovated'].value_counts().head()"
   ]
  },
  {
   "cell_type": "markdown",
   "metadata": {},
   "source": [
    "Last but not least zip codes are categorical. All other columns not mentioned in this section appear to be fine. During the scrub stage, I might have to revisit and make other changes accordingly."
   ]
  },
  {
   "cell_type": "code",
   "execution_count": 16,
   "metadata": {},
   "outputs": [
    {
     "data": {
      "text/plain": [
       "98103    602\n",
       "98038    589\n",
       "98115    583\n",
       "98052    574\n",
       "98117    553\n",
       "Name: zipcode, dtype: int64"
      ]
     },
     "execution_count": 16,
     "metadata": {},
     "output_type": "execute_result"
    }
   ],
   "source": [
    "df['zipcode'] = df.zipcode.astype('category')\n",
    "df['zipcode'].value_counts().head()"
   ]
  },
  {
   "cell_type": "markdown",
   "metadata": {},
   "source": [
    "So far I have made minor data cleaning in order to have a functional dataframe to work with during the exploratory stage of the project."
   ]
  },
  {
   "cell_type": "markdown",
   "metadata": {},
   "source": [
    "## 3. Exploration\n",
    "During this stage, I will delve deeper into the data, try to find outliers, and deal with them appropriately. I will also look for correlation amongst the variables and will solve the following questions:\n",
    "* Is it worth renovating your home?\n",
    "* What zip codes have seen the most price increase over time?\n",
    "* Does having a higher grade translate to a higer price?<br>\n",
    "Let's have a quick look at our slightly cleaner data:"
   ]
  },
  {
   "cell_type": "code",
   "execution_count": 17,
   "metadata": {},
   "outputs": [
    {
     "name": "stdout",
     "output_type": "stream",
     "text": [
      "<class 'pandas.core.frame.DataFrame'>\n",
      "RangeIndex: 21597 entries, 0 to 21596\n",
      "Data columns (total 21 columns):\n",
      "id               21597 non-null int64\n",
      "date             21597 non-null datetime64[ns]\n",
      "price            21597 non-null float64\n",
      "bedrooms         21597 non-null int64\n",
      "bathrooms        21597 non-null int64\n",
      "sqft_living      21597 non-null int64\n",
      "sqft_lot         21597 non-null int64\n",
      "floors           21597 non-null int64\n",
      "waterfront       21597 non-null category\n",
      "view             21597 non-null category\n",
      "condition        21597 non-null category\n",
      "grade            21597 non-null int64\n",
      "sqft_above       21597 non-null int64\n",
      "sqft_basement    21597 non-null int64\n",
      "yr_built         21597 non-null int64\n",
      "yr_renovated     21597 non-null int64\n",
      "zipcode          21597 non-null category\n",
      "lat              21597 non-null float64\n",
      "long             21597 non-null float64\n",
      "sqft_living15    21597 non-null int64\n",
      "sqft_lot15       21597 non-null int64\n",
      "dtypes: category(4), datetime64[ns](1), float64(3), int64(13)\n",
      "memory usage: 2.9 MB\n",
      "None\n",
      "           id       date     price  bedrooms  bathrooms  sqft_living  \\\n",
      "0  7129300520 2014-10-13  221900.0         3          1         1180   \n",
      "1  6414100192 2014-12-09  538000.0         3          3         2570   \n",
      "2  5631500400 2015-02-25  180000.0         2          1          770   \n",
      "3  2487200875 2014-12-09  604000.0         4          3         1960   \n",
      "4  1954400510 2015-02-18  510000.0         3          2         1680   \n",
      "\n",
      "   sqft_lot  floors waterfront view     ...     grade  sqft_above  \\\n",
      "0      5650       1        0.0    0     ...         7        1180   \n",
      "1      7242       2        0.0    0     ...         7        2170   \n",
      "2     10000       1        0.0    0     ...         6         770   \n",
      "3      5000       1        0.0    0     ...         7        1050   \n",
      "4      8080       1        0.0    0     ...         8        1680   \n",
      "\n",
      "   sqft_basement  yr_built  yr_renovated  zipcode      lat     long  \\\n",
      "0              0      1955             0    98178  47.5112 -122.257   \n",
      "1            400      1951          1991    98125  47.7210 -122.319   \n",
      "2              0      1933             0    98028  47.7379 -122.233   \n",
      "3            910      1965             0    98136  47.5208 -122.393   \n",
      "4              0      1987             0    98074  47.6168 -122.045   \n",
      "\n",
      "   sqft_living15  sqft_lot15  \n",
      "0           1340        5650  \n",
      "1           1690        7639  \n",
      "2           2720        8062  \n",
      "3           1360        5000  \n",
      "4           1800        7503  \n",
      "\n",
      "[5 rows x 21 columns]\n"
     ]
    },
    {
     "data": {
      "text/html": [
       "<div>\n",
       "<style scoped>\n",
       "    .dataframe tbody tr th:only-of-type {\n",
       "        vertical-align: middle;\n",
       "    }\n",
       "\n",
       "    .dataframe tbody tr th {\n",
       "        vertical-align: top;\n",
       "    }\n",
       "\n",
       "    .dataframe thead th {\n",
       "        text-align: right;\n",
       "    }\n",
       "</style>\n",
       "<table border=\"1\" class=\"dataframe\">\n",
       "  <thead>\n",
       "    <tr style=\"text-align: right;\">\n",
       "      <th></th>\n",
       "      <th>id</th>\n",
       "      <th>price</th>\n",
       "      <th>bedrooms</th>\n",
       "      <th>bathrooms</th>\n",
       "      <th>sqft_living</th>\n",
       "      <th>sqft_lot</th>\n",
       "      <th>floors</th>\n",
       "      <th>grade</th>\n",
       "      <th>sqft_above</th>\n",
       "      <th>sqft_basement</th>\n",
       "      <th>yr_built</th>\n",
       "      <th>yr_renovated</th>\n",
       "      <th>lat</th>\n",
       "      <th>long</th>\n",
       "      <th>sqft_living15</th>\n",
       "      <th>sqft_lot15</th>\n",
       "    </tr>\n",
       "  </thead>\n",
       "  <tbody>\n",
       "    <tr>\n",
       "      <th>count</th>\n",
       "      <td>2.159700e+04</td>\n",
       "      <td>2.159700e+04</td>\n",
       "      <td>21597.000000</td>\n",
       "      <td>21597.000000</td>\n",
       "      <td>21597.000000</td>\n",
       "      <td>2.159700e+04</td>\n",
       "      <td>21597.000000</td>\n",
       "      <td>21597.000000</td>\n",
       "      <td>21597.000000</td>\n",
       "      <td>21597.000000</td>\n",
       "      <td>21597.000000</td>\n",
       "      <td>21597.000000</td>\n",
       "      <td>21597.000000</td>\n",
       "      <td>21597.000000</td>\n",
       "      <td>21597.000000</td>\n",
       "      <td>21597.000000</td>\n",
       "    </tr>\n",
       "    <tr>\n",
       "      <th>mean</th>\n",
       "      <td>4.580474e+09</td>\n",
       "      <td>5.402966e+05</td>\n",
       "      <td>3.373200</td>\n",
       "      <td>2.440478</td>\n",
       "      <td>2080.321850</td>\n",
       "      <td>1.509941e+04</td>\n",
       "      <td>1.445988</td>\n",
       "      <td>7.657915</td>\n",
       "      <td>1788.596842</td>\n",
       "      <td>285.716581</td>\n",
       "      <td>1970.999676</td>\n",
       "      <td>68.758207</td>\n",
       "      <td>47.560093</td>\n",
       "      <td>-122.213982</td>\n",
       "      <td>1986.620318</td>\n",
       "      <td>12758.283512</td>\n",
       "    </tr>\n",
       "    <tr>\n",
       "      <th>std</th>\n",
       "      <td>2.876736e+09</td>\n",
       "      <td>3.673681e+05</td>\n",
       "      <td>0.926299</td>\n",
       "      <td>0.922309</td>\n",
       "      <td>918.106125</td>\n",
       "      <td>4.141264e+04</td>\n",
       "      <td>0.551658</td>\n",
       "      <td>1.173200</td>\n",
       "      <td>827.759761</td>\n",
       "      <td>439.819830</td>\n",
       "      <td>29.375234</td>\n",
       "      <td>364.037499</td>\n",
       "      <td>0.138552</td>\n",
       "      <td>0.140724</td>\n",
       "      <td>685.230472</td>\n",
       "      <td>27274.441950</td>\n",
       "    </tr>\n",
       "    <tr>\n",
       "      <th>min</th>\n",
       "      <td>1.000102e+06</td>\n",
       "      <td>7.800000e+04</td>\n",
       "      <td>1.000000</td>\n",
       "      <td>1.000000</td>\n",
       "      <td>370.000000</td>\n",
       "      <td>5.200000e+02</td>\n",
       "      <td>1.000000</td>\n",
       "      <td>3.000000</td>\n",
       "      <td>370.000000</td>\n",
       "      <td>0.000000</td>\n",
       "      <td>1900.000000</td>\n",
       "      <td>0.000000</td>\n",
       "      <td>47.155900</td>\n",
       "      <td>-122.519000</td>\n",
       "      <td>399.000000</td>\n",
       "      <td>651.000000</td>\n",
       "    </tr>\n",
       "    <tr>\n",
       "      <th>25%</th>\n",
       "      <td>2.123049e+09</td>\n",
       "      <td>3.220000e+05</td>\n",
       "      <td>3.000000</td>\n",
       "      <td>2.000000</td>\n",
       "      <td>1430.000000</td>\n",
       "      <td>5.040000e+03</td>\n",
       "      <td>1.000000</td>\n",
       "      <td>7.000000</td>\n",
       "      <td>1190.000000</td>\n",
       "      <td>0.000000</td>\n",
       "      <td>1951.000000</td>\n",
       "      <td>0.000000</td>\n",
       "      <td>47.471100</td>\n",
       "      <td>-122.328000</td>\n",
       "      <td>1490.000000</td>\n",
       "      <td>5100.000000</td>\n",
       "    </tr>\n",
       "    <tr>\n",
       "      <th>50%</th>\n",
       "      <td>3.904930e+09</td>\n",
       "      <td>4.500000e+05</td>\n",
       "      <td>3.000000</td>\n",
       "      <td>3.000000</td>\n",
       "      <td>1910.000000</td>\n",
       "      <td>7.618000e+03</td>\n",
       "      <td>1.000000</td>\n",
       "      <td>7.000000</td>\n",
       "      <td>1560.000000</td>\n",
       "      <td>0.000000</td>\n",
       "      <td>1975.000000</td>\n",
       "      <td>0.000000</td>\n",
       "      <td>47.571800</td>\n",
       "      <td>-122.231000</td>\n",
       "      <td>1840.000000</td>\n",
       "      <td>7620.000000</td>\n",
       "    </tr>\n",
       "    <tr>\n",
       "      <th>75%</th>\n",
       "      <td>7.308900e+09</td>\n",
       "      <td>6.450000e+05</td>\n",
       "      <td>4.000000</td>\n",
       "      <td>3.000000</td>\n",
       "      <td>2550.000000</td>\n",
       "      <td>1.068500e+04</td>\n",
       "      <td>2.000000</td>\n",
       "      <td>8.000000</td>\n",
       "      <td>2210.000000</td>\n",
       "      <td>550.000000</td>\n",
       "      <td>1997.000000</td>\n",
       "      <td>0.000000</td>\n",
       "      <td>47.678000</td>\n",
       "      <td>-122.125000</td>\n",
       "      <td>2360.000000</td>\n",
       "      <td>10083.000000</td>\n",
       "    </tr>\n",
       "    <tr>\n",
       "      <th>max</th>\n",
       "      <td>9.900000e+09</td>\n",
       "      <td>7.700000e+06</td>\n",
       "      <td>33.000000</td>\n",
       "      <td>8.000000</td>\n",
       "      <td>13540.000000</td>\n",
       "      <td>1.651359e+06</td>\n",
       "      <td>3.000000</td>\n",
       "      <td>13.000000</td>\n",
       "      <td>9410.000000</td>\n",
       "      <td>4820.000000</td>\n",
       "      <td>2015.000000</td>\n",
       "      <td>2015.000000</td>\n",
       "      <td>47.777600</td>\n",
       "      <td>-121.315000</td>\n",
       "      <td>6210.000000</td>\n",
       "      <td>871200.000000</td>\n",
       "    </tr>\n",
       "  </tbody>\n",
       "</table>\n",
       "</div>"
      ],
      "text/plain": [
       "                 id         price      bedrooms     bathrooms   sqft_living  \\\n",
       "count  2.159700e+04  2.159700e+04  21597.000000  21597.000000  21597.000000   \n",
       "mean   4.580474e+09  5.402966e+05      3.373200      2.440478   2080.321850   \n",
       "std    2.876736e+09  3.673681e+05      0.926299      0.922309    918.106125   \n",
       "min    1.000102e+06  7.800000e+04      1.000000      1.000000    370.000000   \n",
       "25%    2.123049e+09  3.220000e+05      3.000000      2.000000   1430.000000   \n",
       "50%    3.904930e+09  4.500000e+05      3.000000      3.000000   1910.000000   \n",
       "75%    7.308900e+09  6.450000e+05      4.000000      3.000000   2550.000000   \n",
       "max    9.900000e+09  7.700000e+06     33.000000      8.000000  13540.000000   \n",
       "\n",
       "           sqft_lot        floors         grade    sqft_above  sqft_basement  \\\n",
       "count  2.159700e+04  21597.000000  21597.000000  21597.000000   21597.000000   \n",
       "mean   1.509941e+04      1.445988      7.657915   1788.596842     285.716581   \n",
       "std    4.141264e+04      0.551658      1.173200    827.759761     439.819830   \n",
       "min    5.200000e+02      1.000000      3.000000    370.000000       0.000000   \n",
       "25%    5.040000e+03      1.000000      7.000000   1190.000000       0.000000   \n",
       "50%    7.618000e+03      1.000000      7.000000   1560.000000       0.000000   \n",
       "75%    1.068500e+04      2.000000      8.000000   2210.000000     550.000000   \n",
       "max    1.651359e+06      3.000000     13.000000   9410.000000    4820.000000   \n",
       "\n",
       "           yr_built  yr_renovated           lat          long  sqft_living15  \\\n",
       "count  21597.000000  21597.000000  21597.000000  21597.000000   21597.000000   \n",
       "mean    1970.999676     68.758207     47.560093   -122.213982    1986.620318   \n",
       "std       29.375234    364.037499      0.138552      0.140724     685.230472   \n",
       "min     1900.000000      0.000000     47.155900   -122.519000     399.000000   \n",
       "25%     1951.000000      0.000000     47.471100   -122.328000    1490.000000   \n",
       "50%     1975.000000      0.000000     47.571800   -122.231000    1840.000000   \n",
       "75%     1997.000000      0.000000     47.678000   -122.125000    2360.000000   \n",
       "max     2015.000000   2015.000000     47.777600   -121.315000    6210.000000   \n",
       "\n",
       "          sqft_lot15  \n",
       "count   21597.000000  \n",
       "mean    12758.283512  \n",
       "std     27274.441950  \n",
       "min       651.000000  \n",
       "25%      5100.000000  \n",
       "50%      7620.000000  \n",
       "75%     10083.000000  \n",
       "max    871200.000000  "
      ]
     },
     "execution_count": 17,
     "metadata": {},
     "output_type": "execute_result"
    }
   ],
   "source": [
    "print(df.info())\n",
    "print(df.head())\n",
    "df.describe()"
   ]
  },
  {
   "cell_type": "markdown",
   "metadata": {},
   "source": [
    "### 3.1 Check bedroom and bathroom units\n",
    "From the table above, we can see that 33 bedrooms and 8 bathrooms may not be realistic for the houses in our data set. Hence, I will create box plots to test for outliers in these variables."
   ]
  },
  {
   "cell_type": "code",
   "execution_count": 18,
   "metadata": {},
   "outputs": [
    {
     "data": {
      "image/png": "[encoded data removed]",
      "text/plain": [
       "<Figure size 864x288 with 2 Axes>"
      ]
     },
     "metadata": {
      "needs_background": "light"
     },
     "output_type": "display_data"
    }
   ],
   "source": [
    "#boxplot bedrooms and bathrooms to check for outliers.\n",
    "fig, (ax1, ax2) = plt.subplots(nrows = 2, ncols = 1, figsize = (12,4), sharex=True)\n",
    "ax1.boxplot(df.bathrooms, vert=False)\n",
    "ax2.boxplot(df.bedrooms,vert=False)\n",
    "ax1.set_title('Number of Bathrooms')\n",
    "ax2.set_title('Number of Bedrooms')\n",
    "plt.show()"
   ]
  },
  {
   "cell_type": "code",
   "execution_count": 19,
   "metadata": {},
   "outputs": [
    {
     "name": "stdout",
     "output_type": "stream",
     "text": [
      "Size:  [1620]\n",
      "Bathrooms:  [2]\n",
      "Comparable houses (bedrooms):  count    658.000000\n",
      "mean       3.142857\n",
      "std        1.287199\n",
      "min        2.000000\n",
      "25%        3.000000\n",
      "50%        3.000000\n",
      "75%        3.000000\n",
      "max       33.000000\n",
      "Name: bedrooms, dtype: float64\n",
      "Comparable houses (bathrooms):  count    658.000000\n",
      "mean       2.262918\n",
      "std        0.703887\n",
      "min        1.000000\n",
      "25%        2.000000\n",
      "50%        2.000000\n",
      "75%        3.000000\n",
      "max        4.000000\n",
      "Name: bathrooms, dtype: float64\n"
     ]
    }
   ],
   "source": [
    "#Find out the size of the home with 33 bedrooms to see if it is possible that it can have that many.\n",
    "print('Size: ',df[df['bedrooms']==33].sqft_living.values)\n",
    "#Find out how many restrooms the home has.\n",
    "print('Bathrooms: ',df[df['bedrooms']==33].bathrooms.values)\n",
    "#Instead of dropping it I would like to see if there is a comparable home and see how many rooms it has.\n",
    "print('Comparable houses (bedrooms): ',df[df['sqft_living'].between(1600,1650, inclusive=True)].bedrooms.describe())\n",
    "print('Comparable houses (bathrooms): ',df[df['sqft_living'].between(1600,1650, inclusive=True)].bathrooms.describe())"
   ]
  },
  {
   "cell_type": "markdown",
   "metadata": {},
   "source": [
    "From comparing other houses wth similar living space, I think the value of 33 bedrooms is most likely a typing error and should have been 3 bedrooms. Most houses with similar square footage have a median of 3 bedrooms and 2 bathrooms.\n",
    "Since there are homes with up to 11 bedrooms and those houses are likely to have 8 bathrooms, I am not going to modify the bathroom outliers."
   ]
  },
  {
   "cell_type": "code",
   "execution_count": 20,
   "metadata": {},
   "outputs": [],
   "source": [
    "#Replace the 33 bedrooms for 3.\n",
    "df.bedrooms.replace(33,3,inplace=True)"
   ]
  },
  {
   "cell_type": "markdown",
   "metadata": {},
   "source": [
    "### 3.2  Is renovating your home worth it?\n",
    "The variable 'id' is per home and each record is a transaction. Hence, an id can be repeated if a home has had more than one transaction, in other words, sold more than once. I will check to see how many duplicate id's are in the data set."
   ]
  },
  {
   "cell_type": "code",
   "execution_count": 21,
   "metadata": {},
   "outputs": [
    {
     "name": "stdout",
     "output_type": "stream",
     "text": [
      "Number of duplicated id's : 353\n",
      "Number of transactions for renovated homes:  8\n"
     ]
    },
    {
     "data": {
      "text/html": [
       "<div>\n",
       "<style scoped>\n",
       "    .dataframe tbody tr th:only-of-type {\n",
       "        vertical-align: middle;\n",
       "    }\n",
       "\n",
       "    .dataframe tbody tr th {\n",
       "        vertical-align: top;\n",
       "    }\n",
       "\n",
       "    .dataframe thead th {\n",
       "        text-align: right;\n",
       "    }\n",
       "</style>\n",
       "<table border=\"1\" class=\"dataframe\">\n",
       "  <thead>\n",
       "    <tr style=\"text-align: right;\">\n",
       "      <th></th>\n",
       "      <th>id</th>\n",
       "      <th>price</th>\n",
       "      <th>yr_renovated</th>\n",
       "      <th>date</th>\n",
       "    </tr>\n",
       "  </thead>\n",
       "  <tbody>\n",
       "    <tr>\n",
       "      <th>324</th>\n",
       "      <td>7520000520</td>\n",
       "      <td>232000.0</td>\n",
       "      <td>1984</td>\n",
       "      <td>2014-09-05</td>\n",
       "    </tr>\n",
       "    <tr>\n",
       "      <th>325</th>\n",
       "      <td>7520000520</td>\n",
       "      <td>240500.0</td>\n",
       "      <td>1984</td>\n",
       "      <td>2015-03-11</td>\n",
       "    </tr>\n",
       "    <tr>\n",
       "      <th>717</th>\n",
       "      <td>8820903380</td>\n",
       "      <td>452000.0</td>\n",
       "      <td>1990</td>\n",
       "      <td>2014-07-28</td>\n",
       "    </tr>\n",
       "    <tr>\n",
       "      <th>718</th>\n",
       "      <td>8820903380</td>\n",
       "      <td>730000.0</td>\n",
       "      <td>1990</td>\n",
       "      <td>2015-01-02</td>\n",
       "    </tr>\n",
       "    <tr>\n",
       "      <th>3946</th>\n",
       "      <td>1825069031</td>\n",
       "      <td>550000.0</td>\n",
       "      <td>1980</td>\n",
       "      <td>2014-08-14</td>\n",
       "    </tr>\n",
       "  </tbody>\n",
       "</table>\n",
       "</div>"
      ],
      "text/plain": [
       "              id     price  yr_renovated       date\n",
       "324   7520000520  232000.0          1984 2014-09-05\n",
       "325   7520000520  240500.0          1984 2015-03-11\n",
       "717   8820903380  452000.0          1990 2014-07-28\n",
       "718   8820903380  730000.0          1990 2015-01-02\n",
       "3946  1825069031  550000.0          1980 2014-08-14"
      ]
     },
     "execution_count": 21,
     "metadata": {},
     "output_type": "execute_result"
    }
   ],
   "source": [
    "print(\"Number of duplicated id's :\", df.id.duplicated(keep=False).sum())\n",
    "#Get data set with homes with at least two transactions\n",
    "df_duplicates = df[df.id.duplicated(keep=False)][['id', 'price', 'yr_renovated', 'date']]\n",
    "#Find out the transactions with renovations performed before being sold.\n",
    "reno_df = df_duplicates[df_duplicates['yr_renovated']<df_duplicates['date'].dt.year]\n",
    "#Remove non renovated units\n",
    "reno_df = reno_df[reno_df['yr_renovated']>0]\n",
    "print('Number of transactions for renovated homes: ',len(reno_df))\n",
    "reno_df.head()"
   ]
  },
  {
   "cell_type": "markdown",
   "metadata": {},
   "source": [
    "The sample is too small to create any insightful analysis to the data. Since some homes are as old as a century and it is very unlikely they have been in the market without any major renovations, there are probably missing yr_renovated values. Also, all of these homes were sold twice after the renovations, so a direct comparison between before and after renovation prices is not possible.<br>\n",
    "I am changing the approach and comparing prices between homes sold with and without renovations."
   ]
  },
  {
   "cell_type": "code",
   "execution_count": 22,
   "metadata": {},
   "outputs": [
    {
     "data": {
      "image/png": "[encoded data removed]",
      "text/plain": [
       "<Figure size 864x288 with 2 Axes>"
      ]
     },
     "metadata": {
      "needs_background": "light"
     },
     "output_type": "display_data"
    },
    {
     "name": "stdout",
     "output_type": "stream",
     "text": [
      "House prices without renovations median: $ 449000\n",
      "House prices with renovations median: $ 607502\n",
      "Percentage increase in price with renovations 35 %\n"
     ]
    }
   ],
   "source": [
    "#Create two sets of data, one for transactions without renovations and one with renovations.\n",
    "prices_woreno = df[df['yr_renovated']== 0].price\n",
    "prices_reno = df[df['yr_renovated']!= 0].price\n",
    "fig, (ax1, ax2) = plt.subplots(nrows = 2, ncols = 1, figsize = (12,4), sharex=True)\n",
    "#Create boxplot without outliers for better visualization.\n",
    "ax1.boxplot(prices_woreno, vert=False, showfliers=False, showmeans=True)\n",
    "ax2.boxplot(prices_reno,vert=False, showfliers=False, showmeans=True)\n",
    "ax1.set_title('Houses without renovations')\n",
    "ax2.set_title('Houses with renovations')\n",
    "plt.show()\n",
    "print('House prices without renovations median: $',int(prices_woreno.median()))\n",
    "print('House prices with renovations median: $',int(prices_reno.median()))\n",
    "print('Percentage increase in price with renovations',\n",
    "      int(float((prices_reno.median()-prices_woreno.median())/prices_woreno.median())*100),'%')"
   ]
  },
  {
   "cell_type": "markdown",
   "metadata": {},
   "source": [
    "Houses without renovations sell for a meadian of 449,000.00 USD while houses with renovations sell for a median of  607,502.00 USD which repesents a 35% higher price. From this analysis, I conclude that **it is definitely worth renovating a home before selling it.** A better analysis could be achieved by collecting renovation budgets and having transaction records before and after the renovations."
   ]
  },
  {
   "cell_type": "markdown",
   "metadata": {},
   "source": [
    "### 3.3 What zip codes have seen the most price increase over time?"
   ]
  },
  {
   "cell_type": "code",
   "execution_count": 23,
   "metadata": {},
   "outputs": [
    {
     "name": "stdout",
     "output_type": "stream",
     "text": [
      "Number of unique zipcodes:  70\n",
      "Earliest transaction date:  2014-05-02 00:00:00\n",
      "Latest transaction date:  2015-05-27 00:00:00\n"
     ]
    }
   ],
   "source": [
    "#Get an array with unique zipcodes.\n",
    "zipcodes = df.zipcode.astype(int).unique()\n",
    "#Find out how many different zipcodes there are.\n",
    "print('Number of unique zipcodes: ', zipcodes.shape[0])\n",
    "#Get date of earliest transaction\n",
    "print('Earliest transaction date: ',df.date.min())\n",
    "#Get date of latest transaction\n",
    "print('Latest transaction date: ',df.date.max())"
   ]
  },
  {
   "cell_type": "markdown",
   "metadata": {},
   "source": [
    "Given this information, I will start by grouping the transactions per month to be able to compare the monthly average prices amongst zipcodes over the course of a year."
   ]
  },
  {
   "cell_type": "code",
   "execution_count": 25,
   "metadata": {},
   "outputs": [
    {
     "name": "stdout",
     "output_type": "stream",
     "text": [
      "The top 5 zipcodes are:  [98024, 98014, 98112, 98006, 98022]\n"
     ]
    },
    {
     "data": {
      "text/html": [
       "<div>\n",
       "<style scoped>\n",
       "    .dataframe tbody tr th:only-of-type {\n",
       "        vertical-align: middle;\n",
       "    }\n",
       "\n",
       "    .dataframe tbody tr th {\n",
       "        vertical-align: top;\n",
       "    }\n",
       "\n",
       "    .dataframe thead th {\n",
       "        text-align: right;\n",
       "    }\n",
       "</style>\n",
       "<table border=\"1\" class=\"dataframe\">\n",
       "  <thead>\n",
       "    <tr style=\"text-align: right;\">\n",
       "      <th></th>\n",
       "      <th>m_delta</th>\n",
       "    </tr>\n",
       "  </thead>\n",
       "  <tbody>\n",
       "    <tr>\n",
       "      <th>98024</th>\n",
       "      <td>9.83</td>\n",
       "    </tr>\n",
       "    <tr>\n",
       "      <th>98014</th>\n",
       "      <td>6.62</td>\n",
       "    </tr>\n",
       "    <tr>\n",
       "      <th>98112</th>\n",
       "      <td>6.43</td>\n",
       "    </tr>\n",
       "    <tr>\n",
       "      <th>98006</th>\n",
       "      <td>5.05</td>\n",
       "    </tr>\n",
       "    <tr>\n",
       "      <th>98022</th>\n",
       "      <td>4.81</td>\n",
       "    </tr>\n",
       "  </tbody>\n",
       "</table>\n",
       "</div>"
      ],
      "text/plain": [
       "       m_delta\n",
       "98024     9.83\n",
       "98014     6.62\n",
       "98112     6.43\n",
       "98006     5.05\n",
       "98022     4.81"
      ]
     },
     "execution_count": 25,
     "metadata": {},
     "output_type": "execute_result"
    }
   ],
   "source": [
    "df_months = df[['date','price','zipcode']].copy()\n",
    "#normalize day to beginning of month.\n",
    "df_months['YearMonth'] = df_months['date'] + pd.offsets.MonthBegin(1)\n",
    "df_months['YearMonth'] = df_months['date'].map(lambda dt: dt.replace(day=1))\n",
    "df_months.drop('date',axis=1, inplace=True)\n",
    "deltas_dict = {}\n",
    "for zipcode in zipcodes:\n",
    "    #Create temporary dataframe with transactions at a certain zipcode\n",
    "    df_temp = df_months[df_months['zipcode']== zipcode].copy()\n",
    "    #Get median value of the transactions per month. Median valueas are used to offset outlier effects.\n",
    "    df_temp = df_temp.groupby('YearMonth').price.median()\n",
    "    #Create a list to store month to month price changes.\n",
    "    month_delta = []\n",
    "    for i in range(len(df_temp)-1):\n",
    "        #Calculate month to month change in median prices.\n",
    "        delta = (df_temp[i+1]- df_temp[i])/df_temp[i]\n",
    "        month_delta.append(delta)\n",
    "    month_delta = np.array(month_delta)\n",
    "    #Calculate monthly average price change as percentage.\n",
    "    delta = round(month_delta.mean()*100,2)\n",
    "    deltas_dict[zipcode] = delta\n",
    "#Create dataframe \n",
    "df_deltas = pd.DataFrame.from_dict(deltas_dict,orient='index', columns=['m_delta'])\n",
    "#Top 5 zipcodes.\n",
    "print('The top 5 zipcodes are: ', list(df_deltas.sort_values('m_delta', axis=0, ascending=False).index[:5]))\n",
    "df_deltas.sort_values('m_delta', axis=0, ascending=False).head()"
   ]
  },
  {
   "cell_type": "markdown",
   "metadata": {},
   "source": [
    "From the table we get the top 5 zipcodes with the highest percentage price increase per month."
   ]
  },
  {
   "cell_type": "code",
   "execution_count": 27,
   "metadata": {},
   "outputs": [
    {
     "data": {
      "image/png": "[encoded data removed]",
      "text/plain": [
       "<Figure size 1008x432 with 1 Axes>"
      ]
     },
     "metadata": {
      "needs_background": "light"
     },
     "output_type": "display_data"
    }
   ],
   "source": [
    "#Create list of top 5 zipcodes\n",
    "top5_zip= list(df_deltas.sort_values('m_delta', axis=0, ascending=False).index[:5])\n",
    "#Create figure \n",
    "fig = plt.figure(figsize=(14,6))\n",
    "for zipcode in top5_zip:\n",
    "    df_temp = df_months[df_months['zipcode']== zipcode].copy()\n",
    "    df_temp = df_temp.groupby('YearMonth').price.median()\n",
    "    df_temp.plot(label=zipcode, legend=True)\n",
    "df_temp = df_months.groupby('YearMonth').price.median()\n",
    "df_temp.plot(label='All', legend=True)\n",
    "plt.title('Median price per month',fontsize=16)\n",
    "plt.xlabel('Year-Month', fontsize=12)\n",
    "plt.ylabel('Price', fontsize=14)\n",
    "plt.show();"
   ]
  },
  {
   "cell_type": "markdown",
   "metadata": {},
   "source": [
    "House prices remain quite stable overall. The median price of a home at the begining of the period is not much different from the final prices, resulting in no real returns. However, individual zipcodes appear to be more volatile through time. It is apparent that the high average monthly price increase on zipcode 98024 is due to a very high price increase on december 2015. On the other hand, all other values have a positive difference between their beginning and ending values. Zipcodes 98112 and 98006 apart from having high average price increases per month, they also show a high increse from their begining values.\n",
    "On a side note, I notice that zipcodes have somewhat defined price floors and ceilings, meaning houses from the same zipcode share similar characteristics amongst each other."
   ]
  },
  {
   "cell_type": "markdown",
   "metadata": {},
   "source": [
    "### 3.4  Does having a higher grade translate to a higer price?\n",
    "I am inclined to assume that any given person would be willing to pay a premium to buy a better quality home. The process of comparing house quality has been facilitated by King County by issuing a rubric provided to efficiently assign a grade to a house."
   ]
  },
  {
   "cell_type": "code",
   "execution_count": 55,
   "metadata": {},
   "outputs": [
    {
     "data": {
      "image/png": "[encoded data removed]",
      "text/plain": [
       "<Figure size 1008x432 with 1 Axes>"
      ]
     },
     "metadata": {
      "needs_background": "light"
     },
     "output_type": "display_data"
    }
   ],
   "source": [
    "#Create a subset of teh database with the variables needed for the analysis.\n",
    "fig = plt.figure(figsize=(14, 6))\n",
    "fig = sns.boxplot(x='grade', y='price', data=df)\n",
    "plt.title('Grade Boxplots')\n",
    "plt.ylabel('Price')\n",
    "plt.xlabel('Grade')\n",
    "plt.show()"
   ]
  },
  {
   "cell_type": "code",
   "execution_count": 54,
   "metadata": {},
   "outputs": [
    {
     "data": {
      "image/png": "[encoded data removed]",
      "text/plain": [
       "<Figure size 720x288 with 1 Axes>"
      ]
     },
     "metadata": {
      "needs_background": "light"
     },
     "output_type": "display_data"
    }
   ],
   "source": [
    "df_grade=df[['grade','price']].groupby('grade').median().copy()\n",
    "df_grade.reset_index(inplace=True)\n",
    "fig = plt.figure(figsize=(10, 4))\n",
    "fig = sns.lineplot(x='grade', y='price', color='red',data=df_grade, label='Median Price')\n",
    "plt.ylabel('Price')\n",
    "plt.xlabel('Grade')\n",
    "plt.title('Median Price per Grade')\n",
    "plt.show()"
   ]
  },
  {
   "cell_type": "code",
   "execution_count": null,
   "metadata": {},
   "outputs": [],
   "source": []
  },
  {
   "cell_type": "markdown",
   "metadata": {},
   "source": [
    "## 4. Model"
   ]
  },
  {
   "cell_type": "code",
   "execution_count": null,
   "metadata": {},
   "outputs": [],
   "source": []
  },
  {
   "cell_type": "code",
   "execution_count": null,
   "metadata": {},
   "outputs": [],
   "source": []
  }
 ],
 "metadata": {
  "kernelspec": {
   "display_name": "Python 3",
   "language": "python",
   "name": "python3"
  },
  "language_info": {
   "codemirror_mode": {
    "name": "ipython",
    "version": 3
   },
   "file_extension": ".py",
   "mimetype": "text/x-python",
   "name": "python",
   "nbconvert_exporter": "python",
   "pygments_lexer": "ipython3",
   "version": "3.6.6"
  }
 },
 "nbformat": 4,
 "nbformat_minor": 2
}
